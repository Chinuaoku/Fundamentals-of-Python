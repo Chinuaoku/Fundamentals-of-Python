{
  "nbformat": 4,
  "nbformat_minor": 0,
  "metadata": {
    "colab": {
      "provenance": [],
      "authorship_tag": "ABX9TyNaLQcBaB9SM4jKXy9w8qbq",
      "include_colab_link": true
    },
    "kernelspec": {
      "name": "python3",
      "display_name": "Python 3"
    },
    "language_info": {
      "name": "python"
    }
  },
  "cells": [
    {
      "cell_type": "markdown",
      "metadata": {
        "id": "view-in-github",
        "colab_type": "text"
      },
      "source": [
        "<a href=\"https://colab.research.google.com/github/Chinuaoku/Fundamentals-of-Python/blob/Updates/Learn_Python.ipynb\" target=\"_parent\"><img src=\"https://colab.research.google.com/assets/colab-badge.svg\" alt=\"Open In Colab\"/></a>"
      ]
    },
    {
      "cell_type": "markdown",
      "source": [
        "#Programming for Everybody (Python)\n",
        "\n",
        "(>>>) is called three chevron prompt in python, the three arrows means \"whats next?\" In the command line, it indicates that python doesn't know to do next and requires you to tell it what next to do.\n",
        "```\n",
        ">>> x = 1 #This is an assignment statement because it assigns the variable 1 to x\n",
        "\n",
        "print(x) #This is an expression statement or function because it displays the variable stored in x which is 1.\n",
        "\n",
        ">>> x = x + 1\n",
        ">>> print(x)\n",
        "2\n",
        "\n",
        ">>> exit() #closes modulo\n",
        "```\n",
        "\n"
      ],
      "metadata": {
        "id": "mJOG9PKYXyi5"
      }
    },
    {
      "cell_type": "markdown",
      "source": [
        "# Reserved Words\n",
        "These are words that cannot be used as variable names or identifiers. Rather, they can only be used for the function they are meant to perform. These words are; **False, None, True, and, as, assert, async, await, break, class, continue, def, del, elif, else, except, finally, for, from, global, if, import, in, is, lambda, nonlocal, not, or, pass,raise, return, try, while, with, yield**\n",
        "\n",
        "\n",
        "\n",
        "```\n",
        "x = 2 #Assignemnt statement\n",
        "x = x + 2 #Assignment with expression\n",
        "print(x) #print function.\n",
        "```\n",
        "Here x is a variable, = is an operator, 2 are constants and print() is a function."
      ],
      "metadata": {
        "id": "OX7Ya8u9bF6a"
      }
    },
    {
      "cell_type": "markdown",
      "source": [
        "# Python Scripts\n",
        "* Interactive Python is good for experiments and programs of 3-4 lines long\n",
        "* Most programs are much longer, so we type them into a file and tell Python to run the command in the file.\n",
        "* In a sense, we are \"giving python a script\"\n",
        "* As a convention, we add \".py\" as the suffix on the end of these files to indicate they contain Python.\n",
        "\n"
      ],
      "metadata": {
        "id": "2c8XKddMeZDd"
      }
    },
    {
      "cell_type": "markdown",
      "source": [
        "# Program Step or Program Flow\n",
        "* Like a recipe or installation instructions, a program is a sequence of steps to be done in order.\n",
        "* Some steps are conditional - they may be skipped.\n",
        "* Sometimes a step or group of steps is to be repeated.\n",
        "* Sometimes we store a set of steps to be used over and over as needed several places throughout the program."
      ],
      "metadata": {
        "id": "n7m7f1OUlEAQ"
      }
    },
    {
      "cell_type": "code",
      "source": [
        "#SEQUENTIAL STEPS\n",
        "\n",
        "x = 2\n",
        "print(x)\n",
        "x = x + 2\n",
        "print(x)\n",
        "\n",
        "#When a program is running, it flows from one step to the next.\n",
        "#As programmers, we set \"paths\" for the program to flow"
      ],
      "metadata": {
        "colab": {
          "base_uri": "https://localhost:8080/"
        },
        "id": "n8YlJ8ZgmFF9",
        "outputId": "a407c6f8-0ffd-4cf3-9fbb-ac0541a3d19f"
      },
      "execution_count": null,
      "outputs": [
        {
          "output_type": "stream",
          "name": "stdout",
          "text": [
            "2\n",
            "4\n"
          ]
        }
      ]
    },
    {
      "cell_type": "code",
      "source": [
        "#CONDITIONAL STEPS\n",
        "\n",
        "x = 5\n",
        "if x < 10: #Yes x which is 5 is less than 10\n",
        "  print('Smaller')\n",
        "if x > 20: #No x which is 5 is not greater than 20 so it is skipped\n",
        "  print('Bigger')\n",
        "print('Finis')"
      ],
      "metadata": {
        "colab": {
          "base_uri": "https://localhost:8080/"
        },
        "id": "KWOhs596nEGV",
        "outputId": "8aab067d-7346-4f3f-8281-52acb352fbb0"
      },
      "execution_count": null,
      "outputs": [
        {
          "output_type": "stream",
          "name": "stdout",
          "text": [
            "Smaller\n",
            "Finis\n"
          ]
        }
      ]
    },
    {
      "cell_type": "code",
      "source": [
        "#REPEATED STEPS\n",
        "#Loops (repeated steps) have iteration variables that change each time through a loop.\n",
        "\n",
        "n = 5\n",
        "while n > 0:\n",
        "  print(n)\n",
        "  n = n - 1\n",
        "print('Blastoff!')"
      ],
      "metadata": {
        "colab": {
          "base_uri": "https://localhost:8080/"
        },
        "id": "dWr6XIgyqasf",
        "outputId": "98b51be4-8734-451a-ea17-699c04457650"
      },
      "execution_count": null,
      "outputs": [
        {
          "output_type": "stream",
          "name": "stdout",
          "text": [
            "5\n",
            "4\n",
            "3\n",
            "2\n",
            "1\n",
            "Blastoff!\n"
          ]
        }
      ]
    },
    {
      "cell_type": "markdown",
      "source": [
        "# Expressions\n",
        "\n",
        "### Constants\n",
        "* Fixed values such as numbers(123), letters('Hello world'), and strings are called \"constants\" (123, 98.6, Hello world) because their value does not change.\n",
        "* Numeric constants are as you expect\n",
        "*String constants use single quotes(') or double quotes (\").\n",
        "* Another form of constants are like the reserved words earlier talked about.\n"
      ],
      "metadata": {
        "id": "gtY4IrH8eCEU"
      }
    },
    {
      "cell_type": "markdown",
      "source": [
        "# Variables\n",
        "* A variable is a named place in the memory where a programmer can store data and later retrieve the data using the variable name\n",
        "* Programmers get to choose the names of the variables\n",
        "* You can change the constants of a variable in a later statement.\n",
        "* Example of variables are;\n",
        "```\n",
        "x = 12.2\n",
        "y = 14\n",
        "```\n",
        "**If we create another variable x = 100, because we already assigned a value to x, the old value is wiped off and replaced with the new one**"
      ],
      "metadata": {
        "id": "wdvNSySGggVW"
      }
    },
    {
      "cell_type": "markdown",
      "source": [
        "# Python Variable Name Rules\n",
        "* Must start with a **letter** or **underscroe_**\n",
        "* Must consist of letter, numbers and underscores\n",
        "* Case sensitive\n",
        "- **Good:** spam eggs spam23 _speed\n",
        "- **Bad:** 23spam #sign var.12\n",
        "- **Different:** spam Spam SPAM\n",
        "\n",
        "## Sentences or Lines\n",
        "\n",
        "```\n",
        "x = 2 #Assignement statement\n",
        "x = x + 2 #Assignment with expression\n",
        "print(x) #print statement to casue output.\n",
        "```\n",
        "Here; x is a variable, = is an operator, 2 are constants and print() is a function.\n",
        "\n",
        "**Choose variable names to be sensible*"
      ],
      "metadata": {
        "id": "UNdFeegWiOnv"
      }
    },
    {
      "cell_type": "code",
      "source": [
        "#bad variable names\n",
        "x1q3z9ocd = 35.0\n",
        "x1q3z9afd = 12.50\n",
        "x1q3p9afd = x1q3z9ocd * x1q3z9afd\n",
        "print(x1q3p9afd)\n",
        "\n",
        "#good variable names\n",
        "a = 35.0\n",
        "b = 12.50\n",
        "c = a * b\n",
        "print(c)\n",
        "#this variable is better than the inital one because it is easily understood.\n",
        "#but it is not pneumonic.\n",
        "#a pneumonic variable is a variable that makes sense.\n",
        "#here are pneumonic variables\n",
        "hours = 35.0\n",
        "rate = 12.50\n",
        "pay = hours * rate\n",
        "print(pay)\n"
      ],
      "metadata": {
        "colab": {
          "base_uri": "https://localhost:8080/"
        },
        "id": "DtJ5SerNnJtk",
        "outputId": "30eb454c-e01d-445f-90b6-6aca3adda16f"
      },
      "execution_count": null,
      "outputs": [
        {
          "output_type": "stream",
          "name": "stdout",
          "text": [
            "437.5\n",
            "437.5\n",
            "437.5\n"
          ]
        }
      ]
    },
    {
      "cell_type": "markdown",
      "source": [
        "# Numeric Expressions\n",
        "* Because of the lack of mathematical symbols on computer keyboards - we use \"computer speak\" to express the classic math operations\n",
        "*Asterisk is multiplication\n",
        "*Exponentiation (rasie to a power) looks different than in math.\n",
        "\n",
        "\n",
        "```\n",
        "+   Addition\n",
        "-   Subtraction\n",
        "*   Multiplication\n",
        "/   Division\n",
        "**  Power\n",
        "%   Remainder (modulo)\n",
        "```"
      ],
      "metadata": {
        "id": "XFzqzp9guVv8"
      }
    },
    {
      "cell_type": "code",
      "source": [
        "xx = 2\n",
        "xx = xx + 2\n",
        "print(xx)\n",
        "\n",
        "yy = 440 * 12\n",
        "print(yy)\n",
        "\n",
        "zz = yy / 1000\n",
        "print(zz)\n",
        "\n",
        "jj =23\n",
        "kk = jj % 5 #modulo or remainder only solves for the remainder\n",
        "print(kk)\n",
        "\n",
        "print(4 ** 3)"
      ],
      "metadata": {
        "colab": {
          "base_uri": "https://localhost:8080/"
        },
        "id": "Meq3oRO9v5Kg",
        "outputId": "5ac5c89f-c0f8-4bd8-830b-902b7f00e6ab"
      },
      "execution_count": null,
      "outputs": [
        {
          "output_type": "stream",
          "name": "stdout",
          "text": [
            "4\n",
            "5280\n",
            "5.28\n",
            "3\n",
            "64\n"
          ]
        }
      ]
    },
    {
      "cell_type": "markdown",
      "source": [
        "# Order of Evaluation\n",
        "* When we string operators together - python must knoow which one to do first\n",
        "* This is called \"operator precedence\"\n",
        "* Which operator \"takes precedence\" over the other?\n",
        "\n",
        "\n",
        "```\n",
        "x = 1 + (2 * 3) - (4 / (5 ** 6))\n",
        "```\n",
        "\n",
        "## Operator Precedence Rules\n",
        "Highest precedence rule to lowest prcedence rule:\n",
        "\n",
        "- Parenthesis are alwys respected\n",
        "- Exponential (raise to a power)\n",
        "- Multiplication, Division, and Remainder\n",
        "- Addition and Subtraction\n",
        "-Left to right"
      ],
      "metadata": {
        "id": "G4Ba-X9cxG7-"
      }
    },
    {
      "cell_type": "code",
      "source": [
        "#example\n",
        "x = 1 + 2 ** 3 / 4 * 5\n",
        "print(x)\n",
        "\n",
        "# 2 ** 3 solves first\n",
        "# 8 / 4 solves second\n",
        "# 2 * 5 solves third\n",
        "# 1 + 10 solvest last\n",
        "# resulting to 11"
      ],
      "metadata": {
        "colab": {
          "base_uri": "https://localhost:8080/"
        },
        "id": "Shl3mV8WyuWk",
        "outputId": "f3ec84f9-e9ba-46b5-fd37-ea64f5bac68f"
      },
      "execution_count": null,
      "outputs": [
        {
          "output_type": "stream",
          "name": "stdout",
          "text": [
            "11.0\n"
          ]
        }
      ]
    },
    {
      "cell_type": "markdown",
      "source": [
        "# What does \"Type\" Mean?\n",
        "- In Python variables, literals, and constants have a \"type\"\n",
        "- Python knows the difference between an integer number and a string\n",
        "-For example \"+\" means 'addition\" if something is a number and \"concatenate\" if something is a string\n"
      ],
      "metadata": {
        "id": "_63ou7spJtuH"
      }
    },
    {
      "cell_type": "code",
      "source": [
        "#for example\n",
        "ddd = 1 + 4\n",
        "print(ddd)\n",
        "\n",
        "eee = 'hello ' + 'there'\n",
        "print(eee)"
      ],
      "metadata": {
        "colab": {
          "base_uri": "https://localhost:8080/"
        },
        "id": "ElFcHHC3KYFs",
        "outputId": "93d4ed29-a6ac-4ae1-e9c2-c576c6c9134c"
      },
      "execution_count": null,
      "outputs": [
        {
          "output_type": "stream",
          "name": "stdout",
          "text": [
            "5\n",
            "hello there\n"
          ]
        }
      ]
    },
    {
      "cell_type": "markdown",
      "source": [
        "# Type Matters\n",
        "- Python knows what \"type\" everything is\n",
        "- Some operations are prohibited\n",
        "- You cannot \"add 1\" to a string\n",
        "- We can ask python what type something is by using the type() function."
      ],
      "metadata": {
        "id": "wOoY_Pl1QBaT"
      }
    },
    {
      "cell_type": "code",
      "source": [
        "eee = 'hello ' + 'there'\n",
        "eee = eee + 1 #a string and an integer cannot be added together\n",
        "print(eee)\n",
        "\n",
        "type(eee)\n",
        "\n",
        "type('hello')\n",
        "type(1)"
      ],
      "metadata": {
        "colab": {
          "base_uri": "https://localhost:8080/"
        },
        "id": "RqAYug6kQex6",
        "outputId": "8c95ff8f-b8c2-4304-c616-96838640fc04"
      },
      "execution_count": null,
      "outputs": [
        {
          "output_type": "stream",
          "name": "stdout",
          "text": [
            "hello there1\n"
          ]
        },
        {
          "output_type": "execute_result",
          "data": {
            "text/plain": [
              "int"
            ]
          },
          "metadata": {},
          "execution_count": 8
        }
      ]
    },
    {
      "cell_type": "code",
      "source": [
        "x = (1,2,3,4,5)\n",
        "print(type(x))\n",
        "\n",
        "y = [1,2,3,4,5]\n",
        "print(type(y))\n",
        "\n",
        "z = {1,2,3,4,5}\n",
        "print(type(z))\n",
        "\n",
        "a = {'one':1, 'two':2, 'three':3, 'four':4, 'five':5}\n",
        "print(type(a))\n",
        "\n",
        "b = ('one', 'two', 'three', 'four', 'five')\n",
        "print(type(b))\n",
        "\n",
        "c = {'one', 'two', 'three', 'four', 'five'}\n",
        "print(type(c))\n",
        "\n",
        "d = {'one':1, 'two':2, 'three':3, 'four':4, 'five':5}\n",
        "print(type(d))\n",
        "\n",
        "e = 'hello'\n",
        "print(type(e))\n",
        "\n",
        "f = 1 #Integers are whole numbers\n",
        "print(type(f))\n",
        "\n",
        "g = 1.0 #floating points numbers have decimal parts: 2.5, 0.0, 98.6\n",
        "print(type(g))"
      ],
      "metadata": {
        "colab": {
          "base_uri": "https://localhost:8080/"
        },
        "id": "FXviIGVCeC4n",
        "outputId": "b1ec1f08-35fa-48e1-b9ee-b066f83495bc"
      },
      "execution_count": null,
      "outputs": [
        {
          "output_type": "stream",
          "name": "stdout",
          "text": [
            "<class 'tuple'>\n",
            "<class 'list'>\n",
            "<class 'set'>\n",
            "<class 'dict'>\n",
            "<class 'tuple'>\n",
            "<class 'set'>\n",
            "<class 'dict'>\n",
            "<class 'str'>\n",
            "<class 'int'>\n",
            "<class 'float'>\n"
          ]
        }
      ]
    },
    {
      "cell_type": "markdown",
      "source": [
        "# Type Conversion\n",
        "- When you put an integer and floating point in an expression, the integer is implicitly converted to a float.\n",
        "- You can control this with the built-in functions int() and float()"
      ],
      "metadata": {
        "id": "qhABMQVXgeFr"
      }
    },
    {
      "cell_type": "code",
      "source": [
        "print(float(99) + 100)\n",
        "i = 42\n",
        "type(i)\n",
        "f = float(i)\n",
        "print(f)\n",
        "type(f)"
      ],
      "metadata": {
        "colab": {
          "base_uri": "https://localhost:8080/"
        },
        "id": "yoKp8Qsog10k",
        "outputId": "77f0a60f-3c08-4d67-901d-767fc8f5ebe6"
      },
      "execution_count": null,
      "outputs": [
        {
          "output_type": "stream",
          "name": "stdout",
          "text": [
            "199.0\n",
            "42.0\n"
          ]
        },
        {
          "output_type": "execute_result",
          "data": {
            "text/plain": [
              "float"
            ]
          },
          "metadata": {},
          "execution_count": 24
        }
      ]
    },
    {
      "cell_type": "markdown",
      "source": [
        "### Integer Division\n",
        "* Integer division produces a floating point result"
      ],
      "metadata": {
        "id": "0vFwZYXNhu6x"
      }
    },
    {
      "cell_type": "code",
      "source": [
        "print(10 / 2)\n",
        "print(9 / 2)\n",
        "print(99 / 100)\n",
        "print(10.0 / 2.0)\n",
        "print(99.0 / 100.0)"
      ],
      "metadata": {
        "colab": {
          "base_uri": "https://localhost:8080/"
        },
        "id": "ssiXRN8Oh9s4",
        "outputId": "c5d9efac-d4e3-4929-a205-6c08eacb7fbe"
      },
      "execution_count": null,
      "outputs": [
        {
          "output_type": "stream",
          "name": "stdout",
          "text": [
            "5.0\n",
            "4.5\n",
            "0.99\n",
            "5.0\n",
            "0.99\n"
          ]
        }
      ]
    },
    {
      "cell_type": "markdown",
      "source": [
        "# String Conversions\n",
        "* You can also use int() and float() to convert between strings and integers\n",
        "*You will get an error if the string does not contain numeric charatcers."
      ],
      "metadata": {
        "id": "bBBmApKQjIkT"
      }
    },
    {
      "cell_type": "markdown",
      "source": [
        "# User Input\n",
        "* We can instruct Python to pause and read data from the user using the input() function\n",
        "* The input() function returns a string."
      ],
      "metadata": {
        "id": "jnB0CMlWkH7R"
      }
    },
    {
      "cell_type": "code",
      "source": [
        "nam = input('Who are you? >> ')\n",
        "print('Welcome!', nam)"
      ],
      "metadata": {
        "colab": {
          "base_uri": "https://localhost:8080/"
        },
        "id": "vH8pAr1Bkblx",
        "outputId": "d572831b-4d57-4d83-8576-4e00731c7e84"
      },
      "execution_count": null,
      "outputs": [
        {
          "output_type": "stream",
          "name": "stdout",
          "text": [
            "Who are you? >> Chinua\n",
            "Welcome! Chinua\n"
          ]
        }
      ]
    },
    {
      "cell_type": "code",
      "source": [
        "# COMMENTS\n",
        "\n",
        "# Get the name of the files and open it\n",
        "name = input('Enter file name: ')\n",
        "handle = open(name, 'r')\n",
        "# Count word frequency\n",
        "count = dict()\n",
        "for line in handle:\n",
        "    words = line.split()\n",
        "    for word in words:\n",
        "        count[word] = count.get(word, 0) + 1\n",
        "# Find the most common word\n",
        "bigcount = None\n",
        "bigword = None\n",
        "for word, count in count.items():\n",
        "    if bigcount is None or count > bigcount:\n",
        "        bigword = word\n",
        "        bigcount = count\n",
        "# All done\n",
        "print(bigword, bigcount)\n"
      ],
      "metadata": {
        "id": "RDNQY4qj6SPl"
      },
      "execution_count": null,
      "outputs": []
    },
    {
      "cell_type": "markdown",
      "source": [
        "# Converting User Input\n",
        "* If we want to read a number from the user, we must convert it from a string to a number using a type function\n",
        "*Later we will deal with bad input data"
      ],
      "metadata": {
        "id": "rBVj9Fav8GI8"
      }
    },
    {
      "cell_type": "code",
      "source": [
        "# Convert elevator floors\n",
        "inp = input('Europe floor? ')\n",
        "usf = int(inp) + 1\n",
        "print('US floor is:', usf)"
      ],
      "metadata": {
        "colab": {
          "base_uri": "https://localhost:8080/"
        },
        "id": "Exty6xHO8gYY",
        "outputId": "8578f33b-39b6-43d6-86c3-c76650d51ab9"
      },
      "execution_count": null,
      "outputs": [
        {
          "output_type": "stream",
          "name": "stdout",
          "text": [
            "Europe floor? 0\n",
            "US floor is: 1\n"
          ]
        }
      ]
    },
    {
      "cell_type": "markdown",
      "source": [
        "# Exercise\n",
        "Write a program to prompt the user for hours and rate per hour using input to compute gross pay. Use 35 hours and a rate of 2.75 per hour to test the program (the pay should be 96.25). You should use input to read a string and float() to convert the string to a number. Do not worry about error checking or bad user data."
      ],
      "metadata": {
        "id": "RI4_MRzwFMZC"
      }
    },
    {
      "cell_type": "code",
      "source": [
        "hrs = input(\"Enter Hours:\")\n",
        "rate = input(\"Enter Rate:\")\n",
        "pay = float(hrs) * float(rate)\n",
        "print(\"Pay:\", pay)"
      ],
      "metadata": {
        "colab": {
          "base_uri": "https://localhost:8080/"
        },
        "id": "6hK8Dg6hFRvL",
        "outputId": "32ad3a06-1141-4eca-9535-57ae551e053c"
      },
      "execution_count": null,
      "outputs": [
        {
          "output_type": "stream",
          "name": "stdout",
          "text": [
            "Enter Hours:35\n",
            "Enter Rate:2.75\n",
            "Pay: 96.25\n"
          ]
        }
      ]
    },
    {
      "cell_type": "markdown",
      "source": [
        "# Conditional Statements\n",
        "* \"if\" is the reserved word that indicates we are going to do something conditionally.\n",
        "\n",
        "```\n",
        "x = 5 #conditional variable\n",
        "if x < 10: #asks a question that returns T or F\n",
        "    print('Smaller')\n",
        "if x > 20: #asks if x is greater than 20\n",
        "    print('Bigger')\n",
        "\n",
        "Print('Finis')\n",
        "\n",
        "```\n",
        "# Comparison Operators\n",
        "* Boolean expressions ask a question and produce a Yes or No result which we use to control program flow\n",
        "* Boolean expressions using comparison operators evaluate to True / False or Yes / No\n",
        "* Comparison operators look at variables but do not change the variables.\n",
        "\n",
        "\n",
        "```\n",
        "Python     Meaning\n",
        "\n",
        "<          Less than\n",
        "<=         Less than or equal to\n",
        "==         Equal to\n",
        ">=         Greater than or equal to\n",
        ">          Greater than\n",
        "!=         Not equal\n",
        "```\n",
        "* \"=\" is used for assignment.\n",
        "\n",
        "\n"
      ],
      "metadata": {
        "id": "GGGkEK_UNgAT"
      }
    },
    {
      "cell_type": "code",
      "source": [
        "x = 5\n",
        "if x == 5:\n",
        "  print('Equals 5')\n",
        "if x > 4:\n",
        "  print('Greater than 4')\n",
        "if x >= 5:\n",
        "    print('Greater than or equal to 5')\n",
        "if x < 6:\n",
        "  print('Less than 6')\n",
        "if x <= 5:\n",
        "  print('Less than or equal to 5')\n",
        "if x != 6:\n",
        "  print('Not equal 6')"
      ],
      "metadata": {
        "colab": {
          "base_uri": "https://localhost:8080/"
        },
        "id": "t0uGG14LfPfh",
        "outputId": "de728cd7-eb40-4a4c-b64b-72193a514476"
      },
      "execution_count": null,
      "outputs": [
        {
          "output_type": "stream",
          "name": "stdout",
          "text": [
            "Equals 5\n",
            "Greater than 4\n",
            "Greater than or equal to 5\n",
            "Less than 6\n",
            "Less than or equal to 5\n",
            "Not equal 6\n"
          ]
        }
      ]
    },
    {
      "cell_type": "markdown",
      "source": [
        "# One-way Decisions"
      ],
      "metadata": {
        "id": "E_wCFH152_Zm"
      }
    },
    {
      "cell_type": "code",
      "source": [
        "x = 5\n",
        "print('Before 5')\n",
        "if x == 5: #yes\n",
        "  print('Is 5') #runs\n",
        "  print('Is Still 5') #runs\n",
        "  print('Third 5') #runs\n",
        "print('Afterwards 5')\n",
        "print('Before 6')\n",
        "if x == 6: #no\n",
        "    print('Is 6') #skipped\n",
        "    print('Is still 6') #skipped\n",
        "    print('Third 6') #skipped\n",
        "print('Afterwards 6')"
      ],
      "metadata": {
        "colab": {
          "base_uri": "https://localhost:8080/"
        },
        "id": "AWTcDWq6y5kx",
        "outputId": "70bf4956-ccde-4e02-da85-897a4a13c3a8"
      },
      "execution_count": null,
      "outputs": [
        {
          "output_type": "stream",
          "name": "stdout",
          "text": [
            "Before 5\n",
            "Is 5\n",
            "Is Still 5\n",
            "Third 5\n",
            "Afterwards 5\n",
            "Before 6\n",
            "Afterwards 6\n"
          ]
        }
      ]
    },
    {
      "cell_type": "code",
      "source": [
        "#Nested Decisions\n",
        "x = 42\n",
        "if x > 1:\n",
        "    print('More than one')\n",
        "    if x < 100:\n",
        "        print('Less than 100')\n",
        "print('All done')"
      ],
      "metadata": {
        "colab": {
          "base_uri": "https://localhost:8080/"
        },
        "id": "a7Poji9217zm",
        "outputId": "d3124113-4e5f-4b96-f9d8-22d0f9c13d3c"
      },
      "execution_count": null,
      "outputs": [
        {
          "output_type": "stream",
          "name": "stdout",
          "text": [
            "More than one\n",
            "Less than 100\n",
            "All done\n"
          ]
        }
      ]
    },
    {
      "cell_type": "markdown",
      "source": [
        "# Two-way Decisions\n",
        "- Sometimes we want to do one thing if a logical expression is true and something else if the expression is false\n",
        "- It is like a fork in the road - we must choose one or the other path but not both.\n",
        "\n",
        "\n"
      ],
      "metadata": {
        "id": "FBFSctKE3IGB"
      }
    },
    {
      "cell_type": "code",
      "source": [
        "#two-way decisons with else:\n",
        "x = 4\n",
        "if x > 2:\n",
        "    print('Bigger') #true\n",
        "else:\n",
        "    print('Smaller')\n",
        "print('All done')"
      ],
      "metadata": {
        "colab": {
          "base_uri": "https://localhost:8080/"
        },
        "id": "x_zFaep94RTM",
        "outputId": "b5a6e737-6195-487f-9295-f9d3daa0e92b"
      },
      "execution_count": null,
      "outputs": [
        {
          "output_type": "stream",
          "name": "stdout",
          "text": [
            "Bigger\n",
            "All done\n"
          ]
        }
      ]
    },
    {
      "cell_type": "markdown",
      "source": [
        "# Multi-way\n",
        "* This uses \"elif\" to create multiple conditions"
      ],
      "metadata": {
        "id": "OB8vyphQGCun"
      }
    },
    {
      "cell_type": "code",
      "source": [
        "x = 50\n",
        "if x < 2:\n",
        "    print('small')\n",
        "elif x < 10:\n",
        "    print('Medium')\n",
        "else:\n",
        "    print('LARGE')\n",
        "print('All done')\n",
        "\n",
        "#only one of the conditions can execute when it resolves to a True or Yes\n",
        "#Another case could be where ther is no \"else\"\n",
        "x = 5\n",
        "if x < 2:\n",
        "    print('small')\n",
        "elif x < 10:\n",
        "    print('Medium')\n",
        "print('All done')\n",
        "\n",
        "#you can have lots of elif\n",
        "if x < 2:\n",
        "    print('small')\n",
        "elif x < 10:\n",
        "    print('Medium')\n",
        "elif x < 20:\n",
        "    print('Big')\n",
        "elif x < 40:\n",
        "    print('Large')\n",
        "elif x < 100:\n",
        "    print('Huge')\n",
        "else:\n",
        "    print('Ginormous')"
      ],
      "metadata": {
        "colab": {
          "base_uri": "https://localhost:8080/"
        },
        "id": "ooTg8-20GQAJ",
        "outputId": "2a6f4d79-50d0-45dc-d1f6-e4745ce2bd5e"
      },
      "execution_count": null,
      "outputs": [
        {
          "output_type": "stream",
          "name": "stdout",
          "text": [
            "LARGE\n",
            "All done\n",
            "Medium\n",
            "All done\n",
            "Medium\n"
          ]
        }
      ]
    },
    {
      "cell_type": "markdown",
      "source": [
        "# The try / except Structure\n",
        "* This is a way to eliminate or catch a Traceback\n",
        "* You surround a dangerous section of code with try and except\n",
        "* If the code in the try works - the except is skipped\n",
        "* If the code in the try fails - it jumps to the except section\n",
        "\n",
        "\n",
        "```\n",
        "#This code will result to a TRACEBACK\n",
        "astr = 'Hello Bob'\n",
        "istr = int(astr)\n",
        "print('First', istr)\n",
        "astr = '123'\n",
        "istr = int(astr)\n",
        "print('Second', istr)\n",
        "#This code quit at line 2 and the rest of the code is not run\n",
        "```\n",
        "\n"
      ],
      "metadata": {
        "id": "35krtkgdRasL"
      }
    },
    {
      "cell_type": "code",
      "source": [
        "#When the first conversion fails - it just drops into except: clause and the program continues\n",
        "\n",
        "astr = 'Hello Bob'\n",
        "try:\n",
        "    istr = int(astr)\n",
        "except:\n",
        "    istr = -1\n",
        "\n",
        "print('First:', istr)\n",
        "\n",
        "astr = '123'\n",
        "try:\n",
        "    istr = int(astr)\n",
        "except:\n",
        "    istr = -1\n",
        "\n",
        "print('Second:', istr)"
      ],
      "metadata": {
        "colab": {
          "base_uri": "https://localhost:8080/"
        },
        "id": "nAoUri5HUCtx",
        "outputId": "a9f31234-ac61-43c5-f4cc-5497c9eeffce"
      },
      "execution_count": null,
      "outputs": [
        {
          "output_type": "stream",
          "name": "stdout",
          "text": [
            "First: -1\n",
            "Second: 123\n"
          ]
        }
      ]
    },
    {
      "cell_type": "code",
      "source": [
        "rawstr = input('Enter a number: ')\n",
        "try:\n",
        "    ival = int(rawstr)\n",
        "except:\n",
        "    ival = 'Not a number'\n",
        "    print(ival)\n",
        "\n",
        "if isinstance(ival, int):\n",
        "    if ival > 0:\n",
        "        print('Nice work')\n",
        "    else:\n",
        "        print('It is a number')"
      ],
      "metadata": {
        "colab": {
          "base_uri": "https://localhost:8080/"
        },
        "id": "ef3LVQXnfEUL",
        "outputId": "cedfc44b-9b5a-430a-9684-815f0f38d918"
      },
      "execution_count": null,
      "outputs": [
        {
          "output_type": "stream",
          "name": "stdout",
          "text": [
            "Enter a number: 1\n",
            "Nice work\n"
          ]
        }
      ]
    },
    {
      "cell_type": "markdown",
      "source": [
        "# Exercise\n",
        "* Write a program to prompt the user for hours and rate per hour using input to compute gross pay. Pay the hourly rate for the hours up to 40 and 1.5 times the hourly rate for all hours worked above 40 hours. Use 45 hours and a rate of 10.50 per hour to test the program (the pay should be 498.75). You should use input to read a string and float() to convert the string to a number. Do not worry about error checking the user input - assume the user types numbers properly."
      ],
      "metadata": {
        "id": "pW74zFPrs31O"
      }
    },
    {
      "cell_type": "code",
      "source": [
        "hrs = input(\"Enter Hours: \")\n",
        "h = float(hrs)\n",
        "rate = input(\"Enter Rate per hour: \")\n",
        "r = float(rate)\n",
        "if h == 40:\n",
        "    print(r * h)\n",
        "elif h > 40:\n",
        "    xh = h - 40\n",
        "    nh = 40\n",
        "    print(nh * r + (1.5 * r * xh))"
      ],
      "metadata": {
        "colab": {
          "base_uri": "https://localhost:8080/"
        },
        "id": "svBrxamGelPd",
        "outputId": "303ded31-acb2-403d-96f2-e1f395b67c78"
      },
      "execution_count": 1,
      "outputs": [
        {
          "output_type": "stream",
          "name": "stdout",
          "text": [
            "Enter Hours: 45\n",
            "Enter Rate per hour: 10.50\n",
            "498.75\n"
          ]
        }
      ]
    },
    {
      "cell_type": "markdown",
      "source": [
        "# Exercise\n",
        "* Write a program to prompt for a score between 0.0 and 1.0. If the score is out of range, print an error. If the score is between 0.0 and 1.0, print a grade using the following table:\n",
        "Score Grade\n",
        ">= 0.9 A\n",
        ">= 0.8 B\n",
        ">= 0.7 C\n",
        ">= 0.6 D\n",
        "< 0.6 F\n",
        "If the user enters a value out of range, print a suitable error message and exit. For the test, enter a score of 0.85."
      ],
      "metadata": {
        "id": "fTFfhcd4fU8i"
      }
    },
    {
      "cell_type": "code",
      "source": [
        "def compute_grade():\n",
        "    score = input(\"Enter Score: \")\n",
        "\n",
        "    try:\n",
        "        scr = float(score)  # Convert the input to a float\n",
        "        if scr > 1.0 or scr < 0.0:  # Check if the score is out of range\n",
        "            print('Out of range')\n",
        "            return  # Exit the function gracefully\n",
        "    except ValueError:  # Handle cases where the input is not a valid number\n",
        "        print('Invalid input')\n",
        "        return\n",
        "\n",
        "    # Grade computation\n",
        "    if scr >= 0.9:\n",
        "        print('A')\n",
        "    elif scr >= 0.8:\n",
        "        print('B')\n",
        "    elif scr >= 0.7:\n",
        "        print('C')\n",
        "    elif scr >= 0.6:\n",
        "        print('D')\n",
        "    else:\n",
        "        print('F')\n",
        "\n",
        "# Call the function\n",
        "compute_grade()\n"
      ],
      "metadata": {
        "colab": {
          "base_uri": "https://localhost:8080/"
        },
        "id": "3uvEj5sanfJZ",
        "outputId": "07a3b95e-d5b8-4272-abc7-9d8ab6e4e2a1"
      },
      "execution_count": 28,
      "outputs": [
        {
          "output_type": "stream",
          "name": "stdout",
          "text": [
            "Enter Score: 0.85\n",
            "B\n"
          ]
        }
      ]
    },
    {
      "cell_type": "code",
      "source": [
        "#alternative\n",
        "try:\n",
        "    score = float(input('Enter the score: '))\n",
        "    if score <= 0.0 or score >= 1.0:\n",
        "        print('Invalid score')\n",
        "    elif score >= 0.9:\n",
        "        print('A')\n",
        "    elif score >= 0.8:\n",
        "        print('B')\n",
        "    elif score >= 0.7:\n",
        "        print('C')\n",
        "    elif score >= 0.6:\n",
        "        print('D')\n",
        "    else:\n",
        "        print('F')\n",
        "except:\n",
        "    print('Invalid input')"
      ],
      "metadata": {
        "colab": {
          "base_uri": "https://localhost:8080/"
        },
        "id": "J_ynj64hNZlh",
        "outputId": "145bca83-d106-4b05-bff1-a12adfac1c3d"
      },
      "execution_count": null,
      "outputs": [
        {
          "output_type": "stream",
          "name": "stdout",
          "text": [
            "Enter the score: 1\n",
            "Invalid score\n"
          ]
        }
      ]
    },
    {
      "cell_type": "markdown",
      "source": [
        "# Using Functions. Stored (and reused) Steps\n",
        "* This is for storing and re-using\n",
        "* The keyword that is used in creating functions is the \"def\" keyword, it ends in a colon.\n",
        "* A function is some stored code that we use. A function takes some input and produces an output.\n",
        "\n",
        "\n",
        "```\n",
        "def thing():\n",
        "    print('Hello')\n",
        "    print('Fun')\n",
        "thing()\n",
        "print('Zip')\n",
        "thing()\n",
        "\n",
        "Output:\n",
        "Hello\n",
        "Fun\n",
        "Zip\n",
        "Hello\n",
        "Fun\n",
        "```\n",
        "\n"
      ],
      "metadata": {
        "id": "-o53jClSoMNK"
      }
    },
    {
      "cell_type": "markdown",
      "source": [
        "# Building our own Functions\n",
        "* We create a new function using the 'def' keyword followed by optional parameters in parentheses\n",
        "* We indent the body of the function\n",
        "* This defines the function but does not execute the body of the function.\n",
        "\n"
      ],
      "metadata": {
        "id": "a2JLLUAxTM8L"
      }
    },
    {
      "cell_type": "code",
      "source": [
        "x = 5\n",
        "print('Hello')\n",
        "def print_lyrics():\n",
        "    print(\"I'm a lumberjack, and I'm okay.\")\n",
        "    print('I sleep all night and I work all day.')\n",
        "print('Yo')\n",
        "print_lyrics()\n",
        "x = x + 2\n",
        "print(x)"
      ],
      "metadata": {
        "colab": {
          "base_uri": "https://localhost:8080/"
        },
        "id": "8Kr-gsVCWApF",
        "outputId": "1e0197a2-a88a-48b4-d2a2-a1499b495364"
      },
      "execution_count": 29,
      "outputs": [
        {
          "output_type": "stream",
          "name": "stdout",
          "text": [
            "Hello\n",
            "Yo\n",
            "I'm a lumberjack, and I'm okay.\n",
            "I sleep all night and I work all day.\n",
            "7\n"
          ]
        }
      ]
    },
    {
      "cell_type": "markdown",
      "source": [
        "# Arguments\n",
        "* An argument is a value we pass into the function as its input when we call the function\n",
        "* We use arguments so we can direct the function to do different kinds of work when we call it at different times\n",
        "* We put the arguments in parantheses after the name of the function\n",
        "\n",
        "\n",
        "```\n",
        "big = max(\"Hello World\") #Hello world is the argument\n",
        "\n",
        "Arguments are like variable names, but this variable sort of doesn't exist. The lang variable is best thought as an alias.\n",
        "```\n",
        "\n"
      ],
      "metadata": {
        "id": "ZZDIOpgtWdzS"
      }
    },
    {
      "cell_type": "markdown",
      "source": [
        "# Parameters\n",
        "* A parameter is a variable which we use in the function definition. It is a \"handle\" that allows the code in the function to access the arguments for a particular invocation."
      ],
      "metadata": {
        "id": "YvvskfK0XqgP"
      }
    },
    {
      "cell_type": "code",
      "source": [
        "def greet(lang):\n",
        "    if lang == 'es':\n",
        "        print('Hola')\n",
        "    elif lang == 'fr':\n",
        "        print('Bonjour')\n",
        "    elif lang == ('br'):\n",
        "        print('Gut.m')\n",
        "    else:\n",
        "        print('Hello')\n",
        "\n",
        "greet('en')\n",
        "greet('es')\n",
        "greet('fr')\n",
        "greet('lk')\n",
        "greet('br')"
      ],
      "metadata": {
        "colab": {
          "base_uri": "https://localhost:8080/"
        },
        "id": "rBv2DmudYNiz",
        "outputId": "62d0f8c3-2ecb-4409-fb1a-c962007b5ac1"
      },
      "execution_count": 41,
      "outputs": [
        {
          "output_type": "stream",
          "name": "stdout",
          "text": [
            "Hello\n",
            "Hola\n",
            "Bonjour\n",
            "Hello\n",
            "Gut.m\n"
          ]
        }
      ]
    },
    {
      "cell_type": "markdown",
      "source": [
        "# Return Values\n",
        "* Often a function will take its arguemnts, do some computation, and return a value to be used as the value of the function call in the calling expression. The return keyword is used for this."
      ],
      "metadata": {
        "id": "G2g-lJrVZ5Ge"
      }
    },
    {
      "cell_type": "code",
      "source": [
        "def greet():\n",
        "    return \"hello\"\n",
        "\n",
        "print(greet(), \"Glenn\")\n",
        "print(greet(), \"Sally\")"
      ],
      "metadata": {
        "colab": {
          "base_uri": "https://localhost:8080/"
        },
        "id": "ofzzIdWDanLe",
        "outputId": "359eabed-83d2-4682-b5db-b958a79b2e63"
      },
      "execution_count": 39,
      "outputs": [
        {
          "output_type": "stream",
          "name": "stdout",
          "text": [
            "hello Glenn\n",
            "hello Sally\n"
          ]
        }
      ]
    },
    {
      "cell_type": "markdown",
      "source": [
        "# Return Value\n",
        "* A \"fruitful\" function is one that produces a result (or return value)\n",
        "* The return statement ends the function execution and \"sends back\" the result of the function"
      ],
      "metadata": {
        "id": "xzWxnP6ncwzS"
      }
    },
    {
      "cell_type": "code",
      "source": [
        "def greet(lange):\n",
        "    if lange == 'es':\n",
        "        return 'Hola'\n",
        "    elif lange == 'fr':\n",
        "        return 'Bonjour'\n",
        "    else:\n",
        "        return 'Hello'\n",
        "print(greet('en'), 'Glenn')\n",
        "print(greet('es'), 'Sally')\n",
        "print(greet('fr'), 'Michael')"
      ],
      "metadata": {
        "colab": {
          "base_uri": "https://localhost:8080/"
        },
        "id": "jdOAGaS_er0w",
        "outputId": "6c137960-3a3b-4282-f97f-06bd361f6ad6"
      },
      "execution_count": 43,
      "outputs": [
        {
          "output_type": "stream",
          "name": "stdout",
          "text": [
            "Hello Glenn\n",
            "Hola Sally\n",
            "Bonjour Michael\n"
          ]
        }
      ]
    },
    {
      "cell_type": "code",
      "source": [
        "name = input('Enter your name: ')\n",
        "def greet(lange):\n",
        "    if lange == 'es':\n",
        "        return 'Hola'\n",
        "    elif lange == 'fr':\n",
        "        return 'Bonjour'\n",
        "    else:\n",
        "        return 'Hello'\n",
        "\n",
        "print(greet('en'), name)\n",
        "print(greet('es'), name)\n",
        "print(greet('fr'), name)"
      ],
      "metadata": {
        "colab": {
          "base_uri": "https://localhost:8080/"
        },
        "id": "n349i1Nzfw9s",
        "outputId": "2e3f1c23-37ba-4f40-ed71-c65c69ac8cbe"
      },
      "execution_count": 46,
      "outputs": [
        {
          "output_type": "stream",
          "name": "stdout",
          "text": [
            "Enter your name: Chinua\n",
            "Hello Chinua\n",
            "Hola Chinua\n",
            "Bonjour Chinua\n"
          ]
        }
      ]
    },
    {
      "cell_type": "markdown",
      "source": [
        "\n",
        "\n",
        "```\n",
        "# Arguments, Parameters, and Results\n",
        "\n",
        ">>> big = max('Hello World')\n",
        ">>>print('big')\n",
        "\n",
        "here is how this works....\n",
        "\n",
        "'Hello world\" .......> def max(inp)\n",
        "                        blah\n",
        "                        blah\n",
        "                        for x in inp:\n",
        "                        blah\n",
        "                        blah\n",
        "                    return 'w'\n",
        "\n",
        "Result is 'w'\n",
        "\n",
        "what this means is that 'hello world' was sent into the max() function to fish out the biggest letter. After, the biggest is stored in the variable 'big'\n",
        "```\n",
        "\n"
      ],
      "metadata": {
        "id": "W8FGuJ1pmnki"
      }
    },
    {
      "cell_type": "markdown",
      "source": [
        "# Multiple Parameteers / Arguments\n",
        "* We can define more than one parameter in the function definition\n",
        "* We simply add more arguments when we call the function\n",
        "* We match the number and order of arguemts and parameters"
      ],
      "metadata": {
        "id": "Si9PhuxWn4rb"
      }
    },
    {
      "cell_type": "code",
      "source": [
        "def addtwo(a, b):\n",
        "    added = a + b\n",
        "    return added\n",
        "\n",
        "x = addtwo(3, 5)\n",
        "print(x)\n",
        "y = addtwo(2, 2)\n",
        "z = addtwo(10, 10)\n",
        "a = addtwo(3, 2)\n",
        "for i in y, z, a:\n",
        "    print(i)"
      ],
      "metadata": {
        "colab": {
          "base_uri": "https://localhost:8080/"
        },
        "id": "Ys5yedcBp5Zq",
        "outputId": "e11213b4-ad83-4f03-9d56-985aa25cca72"
      },
      "execution_count": 55,
      "outputs": [
        {
          "output_type": "stream",
          "name": "stdout",
          "text": [
            "8\n",
            "4\n",
            "20\n",
            "5\n"
          ]
        }
      ]
    },
    {
      "cell_type": "markdown",
      "source": [
        "# Exercise\n",
        "Write a program to prompt the user for hours and rate per hour using input to compute gross pay. Pay should be the normal rate for hours up to 40 and time-and-a-half for the hourly rate for all hours worked above 40 hours. Put the logic to do the computation of pay in a function called computepay() and use the function to do the computation. The function should return a value. Use 45 hours and a rate of 10.50 per hour to test the program (the pay should be 498.75). You should use input to read a string and float() to convert the string to a number. Do not worry about error checking the user input unless you want to - you can assume the user types numbers properly. Do not name your variable sum or use the sum() function."
      ],
      "metadata": {
        "id": "ze27sFULvzdP"
      }
    },
    {
      "cell_type": "code",
      "source": [
        "def computepay(h, r):\n",
        "    return h * r\n",
        "\n",
        "hours = float(input(\"Enter Hours: \"))\n",
        "rate = float(input(\"Rate: \"))\n",
        "p = computepay(hours, rate)\n",
        "\n",
        "if hours > 40:\n",
        "    extra = (hours - 40) * 15.75\n",
        "    p = (40 * rate + extra)\n",
        "\n",
        "print(\"Pay\", p)"
      ],
      "metadata": {
        "colab": {
          "base_uri": "https://localhost:8080/"
        },
        "id": "W-aJMjwbv5iG",
        "outputId": "a8817bbf-4ce4-4e0a-c869-4e0241dd3dd1"
      },
      "execution_count": 57,
      "outputs": [
        {
          "output_type": "stream",
          "name": "stdout",
          "text": [
            "Enter Hours: 30\n",
            "Rate: 10.50\n",
            "Pay 315.0\n"
          ]
        }
      ]
    },
    {
      "cell_type": "markdown",
      "source": [
        "# Loops and Iteration\n",
        "* This is where computer do repetitive tasks that humans don't want to do.\n",
        "* Loops (repeated steps) have iteration variables that change each time through a loop. often these iteration variables go through a sequence of numbers.\n",
        "* This is done using the \"while\" and the \"for\" keywords. It loops through given instruction.\n",
        "* It is similar to an \"if\" statement with the difference being that \"while and for\" loops until the code is stopped by an instruction.\n",
        "*An inportant part of a loop is what we call the iteration variable. It is something that changes each time the loop runs. If the variable does not change then the loop might run forever which is what we call the infinite loop*\n",
        "* While loop is used to create **indefinite loops** which runs until some keyword or iteration stops it"
      ],
      "metadata": {
        "id": "XxI2KKcKx91B"
      }
    },
    {
      "cell_type": "code",
      "source": [
        "n = 5\n",
        "while n > 0: #As long as n > 0 remains true the loop will continue, otherwise it will stop.\n",
        "    print(n)\n",
        "    n = n - 1\n",
        "print('Blastoff!')\n",
        "print(n)"
      ],
      "metadata": {
        "colab": {
          "base_uri": "https://localhost:8080/"
        },
        "id": "dkFDi24H13Ib",
        "outputId": "971139cd-c5d9-4dcc-9c7e-8a9b02928be2"
      },
      "execution_count": 7,
      "outputs": [
        {
          "output_type": "stream",
          "name": "stdout",
          "text": [
            "5\n",
            "4\n",
            "3\n",
            "2\n",
            "1\n",
            "Blastoff!\n",
            "0\n"
          ]
        }
      ]
    },
    {
      "cell_type": "code",
      "source": [
        "# Here is an example of an infinite loop\n",
        "\n",
        "#n = 5\n",
        "while n > 0:\n",
        "    print('Lather')\n",
        "    print('Rinse')\n",
        "print('Dry off!')\n",
        "#Here, n is not changing and the loop will run infinitely."
      ],
      "metadata": {
        "id": "_AILZ6SLNqv5"
      },
      "execution_count": null,
      "outputs": []
    },
    {
      "cell_type": "code",
      "source": [
        "# Here is a while loop that will eventually resolve to false\n",
        "\n",
        "n = 5 #iteration variable\n",
        "while n > 0:\n",
        "    print(n)\n",
        "    n = n - 1\n",
        "print('Blastoff!')"
      ],
      "metadata": {
        "colab": {
          "base_uri": "https://localhost:8080/"
        },
        "id": "mKiJdN5gO1Ko",
        "outputId": "29aca30c-5fc4-41db-b0d5-a91064fc72f0"
      },
      "execution_count": 1,
      "outputs": [
        {
          "output_type": "stream",
          "name": "stdout",
          "text": [
            "5\n",
            "4\n",
            "3\n",
            "2\n",
            "1\n",
            "Blastoff!\n"
          ]
        }
      ]
    },
    {
      "cell_type": "markdown",
      "source": [
        "# Breaking out of a Loop\n",
        "* There are statements that be used to get out of a loop. One of them is the 'break' statement.\n",
        "* The break statement ends the current loop and jumps to the statement immediately following the loop\n",
        "* It is like a loop test that can happen anywhere in the the body of the loop"
      ],
      "metadata": {
        "id": "nu8HITaoPYXe"
      }
    },
    {
      "cell_type": "code",
      "source": [
        "while True:\n",
        "    line = input('> ')\n",
        "    if line == 'done':\n",
        "        break\n",
        "    print(line)\n",
        "\n",
        "print('Done!')"
      ],
      "metadata": {
        "colab": {
          "base_uri": "https://localhost:8080/"
        },
        "id": "v9uUKgbmQOrN",
        "outputId": "0753f031-51c4-4670-b92f-70dce4416829"
      },
      "execution_count": 9,
      "outputs": [
        {
          "output_type": "stream",
          "name": "stdout",
          "text": [
            "> cat\n",
            "cat\n",
            "> d o n e\n",
            "d o n e\n",
            "> done\n",
            "Done!\n"
          ]
        }
      ]
    },
    {
      "cell_type": "markdown",
      "source": [
        "# Continue\n",
        "* This basically says 'quit on the current iteration and go to the next one.\n",
        "* It ends the current iteration and jumps to the top of the loop and starts the next iteration."
      ],
      "metadata": {
        "id": "K2GWxpHySIIC"
      }
    },
    {
      "cell_type": "code",
      "source": [
        "while True:\n",
        "    line = input('> ')\n",
        "    if line[0] == '#':\n",
        "        continue\n",
        "    if line == 'done':\n",
        "        break\n",
        "    print(line)\n",
        "print('Done!')"
      ],
      "metadata": {
        "colab": {
          "base_uri": "https://localhost:8080/"
        },
        "id": "yx2k0MvmShYZ",
        "outputId": "85e1d240-7eae-4227-e1d7-0108935a41d7"
      },
      "execution_count": 5,
      "outputs": [
        {
          "output_type": "stream",
          "name": "stdout",
          "text": [
            "> hello\n",
            "hello\n",
            "> truth\n",
            "truth\n",
            "> cow\n",
            "cow\n",
            "> #truck\n",
            "> done\n",
            "Done!\n"
          ]
        }
      ]
    },
    {
      "cell_type": "markdown",
      "source": [
        "# Definite Loops\n",
        "* This is a finite loop and it is constructed using the 'for' keyword\n",
        "* It goes through say 'all the lines in the file or all the items in a list or all the characters in a string."
      ],
      "metadata": {
        "id": "JqdYBbrUt8-F"
      }
    },
    {
      "cell_type": "code",
      "source": [
        "# A simple Definite Loop\n",
        "\n",
        "for i in [5, 4, 3, 2, 1]:\n",
        "    print(i)\n",
        "print('Blastoff!')\n",
        "\n",
        "# developers use the i variable for integer related variables"
      ],
      "metadata": {
        "colab": {
          "base_uri": "https://localhost:8080/"
        },
        "id": "nefNaMORxzpb",
        "outputId": "a11db4f1-be99-48eb-d22c-74e3cf41ad26"
      },
      "execution_count": 2,
      "outputs": [
        {
          "output_type": "stream",
          "name": "stdout",
          "text": [
            "5\n",
            "4\n",
            "3\n",
            "2\n",
            "1\n",
            "Blastoff!\n"
          ]
        }
      ]
    },
    {
      "cell_type": "code",
      "source": [
        "friends = ['Joseph', 'Glenn', 'Sally', 'Chinua', 'Justina', 'Eze']\n",
        "for i in friends:\n",
        "    print('Happy New Year!', i)\n",
        "print('Done!')"
      ],
      "metadata": {
        "colab": {
          "base_uri": "https://localhost:8080/"
        },
        "id": "njDVnFhQ2aqx",
        "outputId": "0d714cfb-b182-46f8-8650-9672295ce0d2"
      },
      "execution_count": 9,
      "outputs": [
        {
          "output_type": "stream",
          "name": "stdout",
          "text": [
            "Happy New Year! Joseph\n",
            "Happy New Year! Glenn\n",
            "Happy New Year! Sally\n",
            "Happy New Year! Chinua\n",
            "Happy New Year! Justina\n",
            "Happy New Year! Eze\n",
            "Done!\n"
          ]
        }
      ]
    },
    {
      "cell_type": "markdown",
      "source": [
        "# Accomplishing things with the Loop - Loop Idioms\n",
        "* The trick is \"knowing\" something about the whole loop when you are stuck writing code that only sees one entry at a time."
      ],
      "metadata": {
        "id": "2EDnP7swZw4D"
      }
    },
    {
      "cell_type": "code",
      "source": [
        "# Looping Through a Set\n",
        "\n",
        "print('Before')\n",
        "for i in [9, 41, 12, 3, 74, 15]:\n",
        "    print(i)\n",
        "print('After')"
      ],
      "metadata": {
        "colab": {
          "base_uri": "https://localhost:8080/"
        },
        "id": "7GvtAkl7afv7",
        "outputId": "4430be39-1388-4a7d-877f-85feea9272e3"
      },
      "execution_count": 1,
      "outputs": [
        {
          "output_type": "stream",
          "name": "stdout",
          "text": [
            "Before\n",
            "9\n",
            "41\n",
            "12\n",
            "3\n",
            "74\n",
            "15\n",
            "After\n"
          ]
        }
      ]
    },
    {
      "cell_type": "code",
      "source": [
        "# Finding the Largest Value\n",
        "\n",
        "largest_so_far = -1\n",
        "print('Before', largest_so_far)\n",
        "for the_num in [9, 41, 12, 3, 74, 15]:\n",
        "    if the_num > largest_so_far:\n",
        "        largest_so_far = the_num\n",
        "    print(largest_so_far, the_num)\n",
        "print('After', largest_so_far)\n"
      ],
      "metadata": {
        "colab": {
          "base_uri": "https://localhost:8080/"
        },
        "id": "7Px7LbyYci5v",
        "outputId": "19ca9661-840e-4340-8c6c-842045b9b810"
      },
      "execution_count": 2,
      "outputs": [
        {
          "output_type": "stream",
          "name": "stdout",
          "text": [
            "Before -1\n",
            "9 9\n",
            "41 41\n",
            "41 12\n",
            "41 3\n",
            "74 74\n",
            "74 15\n",
            "After 74\n"
          ]
        }
      ]
    },
    {
      "cell_type": "code",
      "source": [
        "# Counting in a Loop\n",
        "\n",
        "zork = 0\n",
        "print('Before', zork)\n",
        "for i in [9, 41, 12, 3, 74, 15]:\n",
        "    zork = zork + 1\n",
        "    print(zork, i)\n",
        "print('After', zork)\n",
        "\n",
        "#To count how many times we execute a loop, we introduce a counter\n",
        "#variable that starts at 0 and we add one to it each time we go through the loop\n"
      ],
      "metadata": {
        "colab": {
          "base_uri": "https://localhost:8080/"
        },
        "id": "_xbZ8IsVizUA",
        "outputId": "5a7ef227-1c43-4607-b115-d3572229f2d5"
      },
      "execution_count": 3,
      "outputs": [
        {
          "output_type": "stream",
          "name": "stdout",
          "text": [
            "Before 0\n",
            "1 9\n",
            "2 41\n",
            "3 12\n",
            "4 3\n",
            "5 74\n",
            "6 15\n",
            "After 6\n"
          ]
        }
      ]
    },
    {
      "cell_type": "code",
      "source": [
        "#Summing in a Loop\n",
        "\n",
        "zork = 0\n",
        "print('Before', zork)\n",
        "for i in [9, 41, 12, 3, 74, 15]:\n",
        "    zork = zork + i\n",
        "    print(zork, i)\n",
        "print('After', zork)"
      ],
      "metadata": {
        "colab": {
          "base_uri": "https://localhost:8080/"
        },
        "id": "7D1O6XDIkSGR",
        "outputId": "f48f244e-a846-4f24-affd-1743605e5c91"
      },
      "execution_count": 4,
      "outputs": [
        {
          "output_type": "stream",
          "name": "stdout",
          "text": [
            "Before 0\n",
            "9 9\n",
            "50 41\n",
            "62 12\n",
            "65 3\n",
            "139 74\n",
            "154 15\n",
            "After 154\n"
          ]
        }
      ]
    },
    {
      "cell_type": "code",
      "source": [
        "# Finding the Average in a Loop\n",
        "\n",
        "count = 0\n",
        "sum = 0\n",
        "print('Before', count, sum)\n",
        "for i in [9, 41, 12, 3, 74, 15]:\n",
        "    count = count + 1\n",
        "    sum = sum + i\n",
        "    print(count, sum, i)\n",
        "print('After', count, sum, sum/count)\n"
      ],
      "metadata": {
        "colab": {
          "base_uri": "https://localhost:8080/"
        },
        "id": "eTz7gxWllCX1",
        "outputId": "38d9585c-5c9b-46eb-942f-43a5e90b9aa2"
      },
      "execution_count": 5,
      "outputs": [
        {
          "output_type": "stream",
          "name": "stdout",
          "text": [
            "Before 0 0\n",
            "1 9 9\n",
            "2 50 41\n",
            "3 62 12\n",
            "4 65 3\n",
            "5 139 74\n",
            "6 154 15\n",
            "After 6 154 25.666666666666668\n"
          ]
        }
      ]
    },
    {
      "cell_type": "code",
      "source": [
        "# Filtering in a Loop\n",
        "\n",
        "print('Before')\n",
        "for i in [9, 41, 12, 3, 74, 15]:\n",
        "    if i > 20:\n",
        "        print('Large number', i)\n",
        "print('After')"
      ],
      "metadata": {
        "colab": {
          "base_uri": "https://localhost:8080/"
        },
        "id": "tqJ7pB4yl23V",
        "outputId": "b5eebc88-b7e8-43df-afdf-a7865f3f01d9"
      },
      "execution_count": 6,
      "outputs": [
        {
          "output_type": "stream",
          "name": "stdout",
          "text": [
            "Before\n",
            "Large number 41\n",
            "Large number 74\n",
            "After\n"
          ]
        }
      ]
    },
    {
      "cell_type": "code",
      "source": [
        "# Search Using a Boolean Variable\n",
        "\n",
        "found = False\n",
        "print('Before', found)\n",
        "for i in [9, 41, 12, 3, 74, 15]:\n",
        "    if i == 3:\n",
        "        found = True #we could add a 'break' here\n",
        "    print(found, i)\n",
        "print('After', found)"
      ],
      "metadata": {
        "colab": {
          "base_uri": "https://localhost:8080/"
        },
        "id": "DIwgZ9JkmaTw",
        "outputId": "9a9f5a90-478a-4201-95e8-6d7bc0f7e9ca"
      },
      "execution_count": 8,
      "outputs": [
        {
          "output_type": "stream",
          "name": "stdout",
          "text": [
            "Before False\n",
            "False 9\n",
            "False 41\n",
            "False 12\n",
            "True 3\n",
            "True 74\n",
            "True 15\n",
            "After True\n"
          ]
        }
      ]
    },
    {
      "cell_type": "code",
      "source": [
        "# How to find the Smallest Value\n",
        "# None variable has no value in it unlike boolean that has true or false, yes or no\n",
        "smallest = None\n",
        "print('Before')\n",
        "for i in [9, 41, 12, 3, 74, 15]:\n",
        "    if smallest is None: #'is' is more powerful than '=='\n",
        "        smallest = i\n",
        "    elif i < smallest:\n",
        "        smallest = i\n",
        "    print(smallest, i)\n",
        "print('After', smallest)"
      ],
      "metadata": {
        "colab": {
          "base_uri": "https://localhost:8080/"
        },
        "id": "4fgHkpsVnZ_P",
        "outputId": "d64b75e6-cba9-424a-bc82-a69f93af35ab"
      },
      "execution_count": 9,
      "outputs": [
        {
          "output_type": "stream",
          "name": "stdout",
          "text": [
            "Before\n",
            "9 9\n",
            "9 41\n",
            "9 12\n",
            "3 3\n",
            "3 74\n",
            "3 15\n",
            "After 3\n"
          ]
        }
      ]
    },
    {
      "cell_type": "code",
      "source": [
        "# The \"is\" and \"is not\" Operators\n",
        "# python has an 'is' operator that can be used in logical expressions\n",
        "# Implies 'is the same as'\n",
        "# Similar to, but stronger than ==\n",
        "# 'is not' also a logical operator\n",
        "\n",
        "smallest = None\n",
        "print('Before')\n",
        "for i in [9, 41, 12, 3, 74, 15]:\n",
        "    if smallest is None:\n",
        "        smallest = i\n",
        "    elif i < smallest:\n",
        "        smallest = i\n",
        "    print(smallest, i)\n",
        "print('After', smallest)"
      ],
      "metadata": {
        "id": "I6yan86arFsI"
      },
      "execution_count": null,
      "outputs": []
    },
    {
      "cell_type": "markdown",
      "source": [
        "# Exercise\n",
        "Write a program which repeatedly reads numbers until the user enters \"done\". Once \"done\" is entered, print out the total, count, and average of the numbers. If the user enters anything other than a number, detect their mistake using try and except and print an error message and skip to the next number."
      ],
      "metadata": {
        "id": "es_UvrcrBmgZ"
      }
    },
    {
      "cell_type": "code",
      "source": [
        "from os import sched_rr_get_interval\n",
        "num = 0\n",
        "tot = 0.0\n",
        "while True:\n",
        "    sval = input('Enter a number: ')\n",
        "    try:\n",
        "        if sval == 'done':\n",
        "            break\n",
        "        fval = float(sval)\n",
        "        #print(fval)\n",
        "        num = num + 1\n",
        "        tot = tot + fval\n",
        "    except:\n",
        "        print('Invalid input')\n",
        "        continue\n",
        "\n",
        "\n",
        "print('All Done')\n",
        "print(tot, num, tot/num)"
      ],
      "metadata": {
        "colab": {
          "base_uri": "https://localhost:8080/"
        },
        "id": "FElDETmDCTOO",
        "outputId": "ad796659-78f9-4a17-bbc6-eea4e9d6c818"
      },
      "execution_count": 7,
      "outputs": [
        {
          "output_type": "stream",
          "name": "stdout",
          "text": [
            "Enter a number: 4\n",
            "Enter a number: 5\n",
            "Enter a number: done\n",
            "All Done\n",
            "9.0 2 4.5\n"
          ]
        }
      ]
    },
    {
      "cell_type": "markdown",
      "source": [
        "# Exercise\n",
        "Write a program that repeatedly prompts a user for integer numbers until the user enters 'done'. Once 'done' is entered, print out the largest and smallest of the numbers. If the user enters anything other than a valid number catch it with a try/except and put out an appropriate message and ignore the number. Enter 7, 2, bob, 10, and 4 and match the output below."
      ],
      "metadata": {
        "id": "ptdNuo3EFODW"
      }
    },
    {
      "cell_type": "code",
      "source": [
        "largest = None\n",
        "smallest = None\n",
        "while True:\n",
        "    num = input(\"Enter a number: \")\n",
        "    if num == \"done\":\n",
        "        break\n",
        "    try:\n",
        "        x = int(num)\n",
        "        if largest is None or x > largest:\n",
        "            largest = x\n",
        "        if smallest is None or x < smallest:\n",
        "            smallest = x\n",
        "    except:\n",
        "        print('Invalid input')\n",
        "\n",
        "\n",
        "print(\"Maximum is\", largest)\n",
        "print(\"Minimum is\", smallest)"
      ],
      "metadata": {
        "colab": {
          "base_uri": "https://localhost:8080/"
        },
        "id": "31cefCqCFWad",
        "outputId": "67ad20af-c2f6-41d6-90d5-a989077fc25b"
      },
      "execution_count": 8,
      "outputs": [
        {
          "output_type": "stream",
          "name": "stdout",
          "text": [
            "Enter a number: 54\n",
            "Enter a number: 6\n",
            "Enter a number: 90\n",
            "Enter a number: 12\n",
            "Enter a number: 2\n",
            "Enter a number: done\n",
            "Maximum is 90\n",
            "Minimum is 2\n"
          ]
        }
      ]
    },
    {
      "cell_type": "markdown",
      "source": [
        "# Test\n",
        "\n",
        "A new thing"
      ],
      "metadata": {
        "id": "VmBDpNE8J6ub"
      }
    }
  ]
}